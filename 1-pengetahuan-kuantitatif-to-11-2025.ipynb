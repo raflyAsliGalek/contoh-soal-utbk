# 📊 Perbandingan Kuantitas P dan Q Berdasarkan Fungsi dan Barisan Turunannya

## 🧩 Deskripsi Soal

Diberikan sebuah fungsi:  
\[
f(x) = \frac{1}{1 - x}
\]

Dari fungsi tersebut, dibentuk barisan dengan suku ke-\( n \) didefinisikan sebagai:  
\[
U_n = x^n \cdot f^{(n-1)}(x)
\]
di mana \( f^{(n)}(x) \) menyatakan turunan ke-\( n \) dari \( f(x) \), dan \( U_1 = x \cdot f(x) \).

Jika diketahui \( x = 2 \), bandingkan dua kuantitas berikut:

| Kuantitas P                       | Kuantitas Q                          |
| -------------------------------- | ------------------------------------ |
| \( 2^{-9} \times U_{10} \)       | \( \frac{2^7 \times 40}{3^7} \)      |

---

## 🔍 Langkah-langkah Penyelesaian

### 1. Menentukan Bentuk Umum Turunan ke-\( n \)

Fungsi awal:  
\[
f(x) = (1 - x)^{-1}
\]

Pola turunannya:
\[
f^{(n)}(x) = \frac{n!}{(1 - x)^{n + 1}}
\]

### 2. Menentukan Suku ke-10 dari Barisan

Gunakan:
\[
U_n = x^n \cdot f^{(n-1)}(x)
\]

Untuk \( n = 10 \):
\[
U_{10} = x^{10} \cdot f^{(9)}(x) = x^{10} \cdot \frac{9!}{(1 - x)^{10}} = \left( \frac{x}{1 - x} \right)^{10} \cdot 9!
\]

Substitusi \( x = 2 \):
\[
U_{10} = \left( \frac{2}{1 - 2} \right)^{10} \cdot 9! = (-2)^{10} \cdot 9! = 2^{10} \cdot 9!
\]

---

### 3. Hitung Nilai P

\[
P = 2^{-9} \cdot U_{10} = 2^{-9} \cdot (2^{10} \cdot 9!) = 2 \cdot 9! = 2 \cdot 362880 = \boxed{725760}
\]

---

### 4. Hitung Nilai Q

\[
Q = \frac{2^7 \cdot 40}{3^7} = \frac{128 \cdot 40}{2187} = \frac{5120}{2187} \approx \boxed{2.34}
\]

---

### ✅ Perbandingan

\[
P = 725760 \quad \text{dan} \quad Q \approx 2.34
\]

Maka jelas:
\[
\boxed{P > Q}
\]

---

## 🎯 Kesimpulan

**Kuantitas P lebih besar daripada Kuantitas Q.**

**Jawaban yang benar adalah: A**

---

Kalau kamu mau penjelasannya dalam bentuk visual atau animasi langkah-langkah, aku juga bisa bantu!
